{
 "cells": [
  {
   "cell_type": "code",
   "execution_count": 9,
   "metadata": {},
   "outputs": [],
   "source": [
    "import pandas as pd\n",
    "hier_data = pd.read_csv(\"NF1_hier.csv\")\n",
    "inter_data = pd.read_csv(\"NF1_inter.csv\")\n",
    "NF1 = pd.concat([hier_data, inter_data], ignore_index=True)\n",
    "NF1 = NF1[NF1[\"Probability\"]<1]\n",
    "NF1.to_csv(\"NF1.csv\", index=False)"
   ]
  },
  {
   "cell_type": "code",
   "execution_count": 6,
   "metadata": {},
   "outputs": [
    {
     "data": {
      "text/plain": [
       "<AxesSubplot:ylabel='Frequency'>"
      ]
     },
     "execution_count": 6,
     "metadata": {},
     "output_type": "execute_result"
    },
    {
     "data": {
      "image/png": "[encoded data removed]",
      "text/plain": [
       "<Figure size 640x480 with 1 Axes>"
      ]
     },
     "metadata": {},
     "output_type": "display_data"
    }
   ],
   "source": [
    "NF1[\"Probability\"].plot.hist(bins=100)"
   ]
  },
  {
   "cell_type": "code",
   "execution_count": 8,
   "metadata": {},
   "outputs": [
    {
     "data": {
      "text/html": [
       "<div>\n",
       "<style scoped>\n",
       "    .dataframe tbody tr th:only-of-type {\n",
       "        vertical-align: middle;\n",
       "    }\n",
       "\n",
       "    .dataframe tbody tr th {\n",
       "        vertical-align: top;\n",
       "    }\n",
       "\n",
       "    .dataframe thead th {\n",
       "        text-align: right;\n",
       "    }\n",
       "</style>\n",
       "<table border=\"1\" class=\"dataframe\">\n",
       "  <thead>\n",
       "    <tr style=\"text-align: right;\">\n",
       "      <th></th>\n",
       "      <th>ConceptA</th>\n",
       "      <th>ConceptB</th>\n",
       "      <th>Probability</th>\n",
       "    </tr>\n",
       "  </thead>\n",
       "  <tbody>\n",
       "    <tr>\n",
       "      <th>0</th>\n",
       "      <td>http://dbpedia.org/ontology/Activity</td>\n",
       "      <td>http://dbpedia.org/ontology/Game</td>\n",
       "      <td>0.240971</td>\n",
       "    </tr>\n",
       "    <tr>\n",
       "      <th>2</th>\n",
       "      <td>http://dbpedia.org/ontology/Name</td>\n",
       "      <td>http://dbpedia.org/ontology/Surname</td>\n",
       "      <td>0.168544</td>\n",
       "    </tr>\n",
       "    <tr>\n",
       "      <th>12</th>\n",
       "      <td>http://dbpedia.org/ontology/Place</td>\n",
       "      <td>http://dbpedia.org/ontology/NaturalPlace</td>\n",
       "      <td>0.199281</td>\n",
       "    </tr>\n",
       "    <tr>\n",
       "      <th>14</th>\n",
       "      <td>http://dbpedia.org/ontology/PopulatedPlace</td>\n",
       "      <td>http://dbpedia.org/ontology/Region</td>\n",
       "      <td>0.181487</td>\n",
       "    </tr>\n",
       "    <tr>\n",
       "      <th>20</th>\n",
       "      <td>http://dbpedia.org/ontology/NaturalPlace</td>\n",
       "      <td>http://dbpedia.org/ontology/Mountain</td>\n",
       "      <td>0.651466</td>\n",
       "    </tr>\n",
       "    <tr>\n",
       "      <th>...</th>\n",
       "      <td>...</td>\n",
       "      <td>...</td>\n",
       "      <td>...</td>\n",
       "    </tr>\n",
       "    <tr>\n",
       "      <th>1460</th>\n",
       "      <td>http://dbpedia.org/ontology/Skater</td>\n",
       "      <td>http://dbpedia.org/ontology/FigureSkater</td>\n",
       "      <td>0.521646</td>\n",
       "    </tr>\n",
       "    <tr>\n",
       "      <th>1463</th>\n",
       "      <td>http://dbpedia.org/ontology/FigureSkater</td>\n",
       "      <td>http://dbpedia.org/ontology/Skater</td>\n",
       "      <td>0.154357</td>\n",
       "    </tr>\n",
       "    <tr>\n",
       "      <th>1472</th>\n",
       "      <td>http://dbpedia.org/ontology/MilitaryStructure</td>\n",
       "      <td>http://dbpedia.org/ontology/Building</td>\n",
       "      <td>0.121597</td>\n",
       "    </tr>\n",
       "    <tr>\n",
       "      <th>1490</th>\n",
       "      <td>http://dbpedia.org/ontology/SportFacility</td>\n",
       "      <td>http://dbpedia.org/ontology/Building</td>\n",
       "      <td>0.220304</td>\n",
       "    </tr>\n",
       "    <tr>\n",
       "      <th>1531</th>\n",
       "      <td>http://dbpedia.org/ontology/ReligiousBuilding</td>\n",
       "      <td>http://dbpedia.org/ontology/HistoricBuilding</td>\n",
       "      <td>0.149504</td>\n",
       "    </tr>\n",
       "  </tbody>\n",
       "</table>\n",
       "<p>192 rows × 3 columns</p>\n",
       "</div>"
      ],
      "text/plain": [
       "                                           ConceptA  \\\n",
       "0              http://dbpedia.org/ontology/Activity   \n",
       "2                  http://dbpedia.org/ontology/Name   \n",
       "12                http://dbpedia.org/ontology/Place   \n",
       "14       http://dbpedia.org/ontology/PopulatedPlace   \n",
       "20         http://dbpedia.org/ontology/NaturalPlace   \n",
       "...                                             ...   \n",
       "1460             http://dbpedia.org/ontology/Skater   \n",
       "1463       http://dbpedia.org/ontology/FigureSkater   \n",
       "1472  http://dbpedia.org/ontology/MilitaryStructure   \n",
       "1490      http://dbpedia.org/ontology/SportFacility   \n",
       "1531  http://dbpedia.org/ontology/ReligiousBuilding   \n",
       "\n",
       "                                          ConceptB  Probability  \n",
       "0                 http://dbpedia.org/ontology/Game     0.240971  \n",
       "2              http://dbpedia.org/ontology/Surname     0.168544  \n",
       "12        http://dbpedia.org/ontology/NaturalPlace     0.199281  \n",
       "14              http://dbpedia.org/ontology/Region     0.181487  \n",
       "20            http://dbpedia.org/ontology/Mountain     0.651466  \n",
       "...                                            ...          ...  \n",
       "1460      http://dbpedia.org/ontology/FigureSkater     0.521646  \n",
       "1463            http://dbpedia.org/ontology/Skater     0.154357  \n",
       "1472          http://dbpedia.org/ontology/Building     0.121597  \n",
       "1490          http://dbpedia.org/ontology/Building     0.220304  \n",
       "1531  http://dbpedia.org/ontology/HistoricBuilding     0.149504  \n",
       "\n",
       "[192 rows x 3 columns]"
      ]
     },
     "execution_count": 8,
     "metadata": {},
     "output_type": "execute_result"
    }
   ],
   "source": [
    "NF1[NF1[\"Probability\"]>0.1]"
   ]
  },
  {
   "cell_type": "code",
   "execution_count": null,
   "metadata": {},
   "outputs": [],
   "source": []
  }
 ],
 "metadata": {
  "kernelspec": {
   "display_name": "DLlearner",
   "language": "python",
   "name": "python3"
  },
  "language_info": {
   "codemirror_mode": {
    "name": "ipython",
    "version": 3
   },
   "file_extension": ".py",
   "mimetype": "text/x-python",
   "name": "python",
   "nbconvert_exporter": "python",
   "pygments_lexer": "ipython3",
   "version": "3.8.13"
  },
  "orig_nbformat": 4,
  "vscode": {
   "interpreter": {
    "hash": "3e1d5db32f2a66c8e584f6a2e545266f72ba55510f969b22971144474ddaeb7f"
   }
  }
 },
 "nbformat": 4,
 "nbformat_minor": 2
}
